{
    "cells": [
        {
            "cell_type": "markdown",
            "metadata": {
                "collapsed": true
            },
            "source": "<h1><center> Battle of the Neighborhoods - Week 1 </center></h1>\n\n![alt text](https://www.americanflags.com/media/magefan_blog/2018/01/welcome-to-new-mexico-state-sign.jpg \"Logo Title Text 1\")\n\n<h2>Introduction</h2>\nClearly define a problem or an idea of your choice, where you would need to leverage the Foursquare location data to solve or execute. Remember that data science problems always target an audience and are meant to help a group of stakeholders solve a problem, so make sure that you explicitly describe your audience and why they would care about your problem.\n\nNew Mexico is the 5th largest state in the United States while ranking 45th in population density. New Mexico recently dropped to 50th overall in education of all American States and Territories. New Mexico is a state that has dealth with prolonged issues related to economic security, income, education and funding their state government. Access to quality education is fundamental to improving all of these conditions as well as other socio-economic issues like crime, domestic violence and substance abuse. \n\n<h2> Problem To Solve </h2>\nThe idea of this study is to help stakeholders locate areas that are underserved in terms of proximity to schools to allow them to build additional schools within the existing system. Government's or Private Entities could find this data useful in their plans for improving access to education in New Mexico."
        },
        {
            "cell_type": "markdown",
            "metadata": {},
            "source": "### Data Description\n\nTo Provide necessary information on demographics and school performance I will be combinig demographic data and school ranking data deatailed below using FourSquare API to find gaps or needs in their current offerings.\n\nOur Primary Factors for Research Will Be:\n\n  * Population Data\n\n  * Number of Schools Per Capita\n\n  * National and State Averages for Schools Per Capita\n\n  * Average distance to school facilities for population\n\n  * Socio-Economic Data such as Income, Dwelling types, Zoning/Surroudning Enviornment\n\n  * School Ranking Data\n\nhttps://en.wikipedia.org/wiki/List_of_New_Mexico_locations_by_per_capita_income\n\n\nhttp://webed.ped.state.nm.us/sites/schooldirectory/Lists/2017%20NM%20Schools/AllItems.aspx\n\n\nhttp://aae.ped.state.nm.us/DataTableLinks.html\n\n\nhttp://aae.ped.state.nm.us/\n\n\nhttps://myunt-my.sharepoint.com/personal/phillipmurphy_my_unt_edu/Documents/CurrentStanding%202018.xlsx?web=1\n\n"
        },
        {
            "cell_type": "code",
            "execution_count": null,
            "metadata": {},
            "outputs": [],
            "source": ""
        }
    ],
    "metadata": {
        "kernelspec": {
            "display_name": "Python 3.6",
            "language": "python",
            "name": "python3"
        },
        "language_info": {
            "codemirror_mode": {
                "name": "ipython",
                "version": 3
            },
            "file_extension": ".py",
            "mimetype": "text/x-python",
            "name": "python",
            "nbconvert_exporter": "python",
            "pygments_lexer": "ipython3",
            "version": "3.6.9"
        }
    },
    "nbformat": 4,
    "nbformat_minor": 1
}