{
    "cells": [
        {
            "cell_type": "markdown",
            "metadata": {
                "collapsed": true
            },
            "source": "<h1><center> Battle of the Neighborhoods - Week 1 </center></h1>\n\n<center> Clearly define a problem or an idea of your choice, where you would need to leverage the Foursquare location data to solve or execute. Remember that data science problems always target an audience and are meant to help a group of stakeholders solve a problem, so make sure that you explicitly describe your audience and why they would care about your problem. </center>\n\n<h4><center> The idea of this study is to help government or private groups planning to open a new school in New Mexico to chose the right location by providing data about the income and population of each neighborhood as well as the options already present on the same regions. </center></h4>"
        },
        {
            "cell_type": "markdown",
            "metadata": {},
            "source": "### Data Description\n\nTo Provide necessary information on demographics and need I will be combinig demographic data (population, median income, per capita income, and number of schools per capita) using FourSquare API to find gaps or needs in their current offerings.\n\nhttps://en.wikipedia.org/wiki/List_of_New_Mexico_locations_by_per_capita_income\n\n"
        }
    ],
    "metadata": {
        "kernelspec": {
            "display_name": "Python 3.6",
            "language": "python",
            "name": "python3"
        },
        "language_info": {
            "codemirror_mode": {
                "name": "ipython",
                "version": 3
            },
            "file_extension": ".py",
            "mimetype": "text/x-python",
            "name": "python",
            "nbconvert_exporter": "python",
            "pygments_lexer": "ipython3",
            "version": "3.6.9"
        }
    },
    "nbformat": 4,
    "nbformat_minor": 1
}